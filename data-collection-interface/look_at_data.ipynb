{
 "cells": [
  {
   "cell_type": "code",
   "execution_count": 17,
   "metadata": {},
   "outputs": [],
   "source": [
    "from handledata import gesture_data\n",
    "import load_gestures as load\n",
    "import numpy as np"
   ]
  },
  {
   "cell_type": "code",
   "execution_count": null,
   "metadata": {},
   "outputs": [],
   "source": []
  },
  {
   "cell_type": "code",
   "execution_count": 43,
   "metadata": {},
   "outputs": [
    {
     "data": {
      "text/plain": [
       "0"
      ]
     },
     "execution_count": 43,
     "metadata": {},
     "output_type": "execute_result"
    }
   ],
   "source": [
    "a = load.load_digits_for_candidate('anish', load.DigitNames.six)\n",
    "# np.shape(a)\n",
    "cname = a[0][0]\n",
    "clist = a[0][1]\n",
    "six = clist[0:14]\n",
    "seven = clist[15:-1]"
   ]
  },
  {
   "cell_type": "code",
   "execution_count": 35,
   "metadata": {},
   "outputs": [
    {
     "data": {
      "text/plain": [
       "14"
      ]
     },
     "execution_count": 35,
     "metadata": {},
     "output_type": "execute_result"
    }
   ],
   "source": [
    "len(six)"
   ]
  },
  {
   "cell_type": "code",
   "execution_count": 42,
   "metadata": {},
   "outputs": [
    {
     "ename": "ValueError",
     "evalue": "1686773870.8552487 is not in list",
     "output_type": "error",
     "traceback": [
      "\u001b[1;31m---------------------------------------------------------------------------\u001b[0m",
      "\u001b[1;31mValueError\u001b[0m                                Traceback (most recent call last)",
      "Cell \u001b[1;32mIn[42], line 12\u001b[0m\n\u001b[0;32m      9\u001b[0m     i \u001b[39m=\u001b[39m GestureData\u001b[39m.\u001b[39mload_from_dict(gest_dict)\n\u001b[0;32m     10\u001b[0m     i\u001b[39m.\u001b[39mremove_from_dataset()\n\u001b[1;32m---> 12\u001b[0m convert_and_delete(clist[\u001b[39m15\u001b[39;49m]) \n\u001b[0;32m     13\u001b[0m \u001b[39m# Remove from six\u001b[39;00m\n",
      "Cell \u001b[1;32mIn[42], line 10\u001b[0m, in \u001b[0;36mconvert_and_delete\u001b[1;34m(gest_dict)\u001b[0m\n\u001b[0;32m      8\u001b[0m \u001b[39mdef\u001b[39;00m \u001b[39mconvert_and_delete\u001b[39m(gest_dict):\n\u001b[0;32m      9\u001b[0m     i \u001b[39m=\u001b[39m GestureData\u001b[39m.\u001b[39mload_from_dict(gest_dict)\n\u001b[1;32m---> 10\u001b[0m     i\u001b[39m.\u001b[39;49mremove_from_dataset()\n",
      "File \u001b[1;32mc:\\Users\\gvand\\OneDrive\\Documentos\\Uni\\Y3Q4 Research Project\\time-distributed-digit-recognition\\data-collection-interface\\handledata\\gesture_data.py:62\u001b[0m, in \u001b[0;36mGestureData.remove_from_dataset\u001b[1;34m(self)\u001b[0m\n\u001b[0;32m     60\u001b[0m \u001b[39mdef\u001b[39;00m \u001b[39mremove_from_dataset\u001b[39m(\u001b[39mself\u001b[39m) \u001b[39m-\u001b[39m\u001b[39m>\u001b[39m \u001b[39mNone\u001b[39;00m:\n\u001b[0;32m     61\u001b[0m     path \u001b[39m=\u001b[39m \u001b[39mself\u001b[39m\u001b[39m.\u001b[39mget_pickle_path()\n\u001b[1;32m---> 62\u001b[0m     remove_entry_at(path, \u001b[39mself\u001b[39;49m\u001b[39m.\u001b[39;49mtimestamp)\n",
      "File \u001b[1;32mc:\\Users\\gvand\\OneDrive\\Documentos\\Uni\\Y3Q4 Research Project\\time-distributed-digit-recognition\\data-collection-interface\\handledata\\gesture_data.py:194\u001b[0m, in \u001b[0;36mremove_entry_at\u001b[1;34m(path, timestamp)\u001b[0m\n\u001b[0;32m    190\u001b[0m data_time \u001b[39m=\u001b[39m \u001b[39mlist\u001b[39m(\u001b[39mmap\u001b[39m(\u001b[39mlambda\u001b[39;00m x: x\u001b[39m.\u001b[39mtimestamp, data))\n\u001b[0;32m    192\u001b[0m \u001b[39m# Use the timestamp to find the index.\u001b[39;00m\n\u001b[0;32m    193\u001b[0m \u001b[39m# Use the timestamp to find the index.\u001b[39;00m\n\u001b[1;32m--> 194\u001b[0m index \u001b[39m=\u001b[39m data_time\u001b[39m.\u001b[39mindex(timestamp)\n\u001b[0;32m    195\u001b[0m \u001b[39mif\u001b[39;00m (index \u001b[39m!=\u001b[39m \u001b[39m-\u001b[39m\u001b[39m1\u001b[39m):\n\u001b[0;32m    196\u001b[0m     \u001b[39mprint\u001b[39m(\u001b[39m\"\u001b[39m\u001b[39m=== Removed one entry from dataset at \u001b[39m\u001b[39m'\u001b[39m\u001b[39m\"\u001b[39m \u001b[39m+\u001b[39m path \u001b[39m+\u001b[39m \u001b[39m\"\u001b[39m\u001b[39m'\u001b[39m\u001b[39m\"\u001b[39m)\n",
      "\u001b[1;31mValueError\u001b[0m: 1686773870.8552487 is not in list"
     ]
    }
   ],
   "source": [
    "\n",
    "from handledata.gesture_data import GestureData\n",
    "def convert_and_save(gest_dict):\n",
    "    i = GestureData.load_from_dict(gest_dict)\n",
    "    i.set_metadata(i.candidate, i.hand, i.gesture_type,\"#7\")\n",
    "    i.plot()\n",
    "    i.save_to_file()\n",
    "\n",
    "def convert_and_delete(gest_dict):\n",
    "    i = GestureData.load_from_dict(gest_dict)\n",
    "    i.remove_from_dataset()\n"
   ]
  },
  {
   "cell_type": "code",
   "execution_count": 3,
   "metadata": {},
   "outputs": [
    {
     "ename": "NameError",
     "evalue": "name 'GestureData' is not defined",
     "output_type": "error",
     "traceback": [
      "\u001b[1;31m---------------------------------------------------------------------------\u001b[0m",
      "\u001b[1;31mNameError\u001b[0m                                 Traceback (most recent call last)",
      "Cell \u001b[1;32mIn[3], line 1\u001b[0m\n\u001b[1;32m----> 1\u001b[0m l \u001b[39m=\u001b[39m GestureData\u001b[39m.\u001b[39mload_and_split_training_test()\n",
      "\u001b[1;31mNameError\u001b[0m: name 'GestureData' is not defined"
     ]
    }
   ],
   "source": [
    "l = GestureData.load_and_split_training_test()"
   ]
  }
 ],
 "metadata": {
  "kernelspec": {
   "display_name": ".venv",
   "language": "python",
   "name": "python3"
  },
  "language_info": {
   "codemirror_mode": {
    "name": "ipython",
    "version": 3
   },
   "file_extension": ".py",
   "mimetype": "text/x-python",
   "name": "python",
   "nbconvert_exporter": "python",
   "pygments_lexer": "ipython3",
   "version": "3.11.2"
  },
  "orig_nbformat": 4
 },
 "nbformat": 4,
 "nbformat_minor": 2
}
